{
 "cells": [
  {
   "cell_type": "code",
   "execution_count": 3,
   "id": "f77c5944",
   "metadata": {},
   "outputs": [
    {
     "name": "stdout",
     "output_type": "stream",
     "text": [
      "Hello from mlnote!\n",
      "2.7.0+cu126\n"
     ]
    }
   ],
   "source": [
    "print(\"Hello from mlnote!\")\n",
    "\n",
    "import torch\n",
    "torch.cuda.is_available()\n",
    "\n",
    "print(torch.__version__)"
   ]
  }
 ],
 "metadata": {
  "kernelspec": {
   "display_name": ".venv",
   "language": "python",
   "name": "python3"
  },
  "language_info": {
   "codemirror_mode": {
    "name": "ipython",
    "version": 3
   },
   "file_extension": ".py",
   "mimetype": "text/x-python",
   "name": "python",
   "nbconvert_exporter": "python",
   "pygments_lexer": "ipython3",
   "version": "3.13.3"
  }
 },
 "nbformat": 4,
 "nbformat_minor": 5
}
